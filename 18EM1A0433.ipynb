{
 "cells": [
  {
   "cell_type": "code",
   "execution_count": 28,
   "metadata": {},
   "outputs": [],
   "source": [
    "### CREAT A FUNCTION TO FIND THE ARMSTRONG NUMBER IN THE GIVEN RANGE OF 100 TO 200\n",
    "\n",
    "def sairam():\n",
    "    s=0\n",
    "    for i in range(100,200):\n",
    "        if(i%10==0):\n",
    "            a=i**3\n",
    "            b=s+a\n",
    "            i=i//10\n",
    "        if(b==i):\n",
    "            print(b,end)\n",
    "sairam()"
   ]
  },
  {
   "cell_type": "code",
   "execution_count": 25,
   "metadata": {},
   "outputs": [
    {
     "data": {
      "text/plain": [
       "2"
      ]
     },
     "execution_count": 25,
     "metadata": {},
     "output_type": "execute_result"
    }
   ],
   "source": [
    "### python programming by python platform\n",
    "s=(\"python programming by python platform\")\n",
    "s.count(\"python\")\n",
    "        \n",
    "        "
   ]
  },
  {
   "cell_type": "code",
   "execution_count": null,
   "metadata": {},
   "outputs": [],
   "source": []
  }
 ],
 "metadata": {
  "kernelspec": {
   "display_name": "Python 3",
   "language": "python",
   "name": "python3"
  },
  "language_info": {
   "codemirror_mode": {
    "name": "ipython",
    "version": 3
   },
   "file_extension": ".py",
   "mimetype": "text/x-python",
   "name": "python",
   "nbconvert_exporter": "python",
   "pygments_lexer": "ipython3",
   "version": "3.7.3"
  }
 },
 "nbformat": 4,
 "nbformat_minor": 2
}
